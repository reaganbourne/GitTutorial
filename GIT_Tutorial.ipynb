{
 "cells": [
  {
   "cell_type": "markdown",
   "id": "0b887582",
   "metadata": {},
   "source": [
    "<!-- section -->\n",
    "## FSU Libraries Git Tutorial"
   ]
  },
  {
   "cell_type": "markdown",
   "id": "e48fda22",
   "metadata": {},
   "source": [
    "**In This Tutorial You Will Learn:**\n",
    "- What Git is typically used for\n",
    "- The difference between Git and GitHub\n",
    "- How to access Git and GitHub\n",
    "- Linking Git and GitHub\n",
    "- Basic vocabulary\n",
    "- The difference between cloning and forking \n",
    "- Git add, commit and push\n",
    "- Working with branches\n",
    "- Pull, fetch and merge\n",
    "- Git aliases and helpful Unix commands\n",
    "- The correct workflow\n",
    "- Git URL protocols"
   ]
  },
  {
   "cell_type": "markdown",
   "id": "05b91613",
   "metadata": {},
   "source": [
    "**Audience and Prerequisites**  \n",
    "This tutorial will help beginners learn the basics of Git and Github. We assume that you have some experience with the terminal/command prompt. We also assume that you are using Git to help manage coding projects. Also note that for this tutorial we will be using Git in the command line only. "
   ]
  },
  {
   "cell_type": "markdown",
   "id": "6692a8d2",
   "metadata": {},
   "source": [
    "**What is Git and why should you use it?**  \n",
    "Git is a free and open source distributed version control system, developed by Linus Torvals in 2005. There are several different types of distributed version control systems, but Git is great because it is free, open source, has a very low runtime, has implicit backup, and is very secure. Git has great support with branching, merging and pull requests, which allow teams to collaborate and efficiently work with each other's code. While allowing developers to work simultaneously, it also prevents overwriting each other's changes. Git is the most popular and widely used version-control system today. "
   ]
  },
  {
   "cell_type": "markdown",
   "id": "1c20df48",
   "metadata": {},
   "source": [
    "It can be used for: \n",
    "1. Tracking code changes\n",
    "2. Tracking who made code changes\n",
    "3. Coding collaboration"
   ]
  },
  {
   "cell_type": "markdown",
   "id": "55136cf5",
   "metadata": {},
   "source": [
    "**What is the difference between Git and GitHub?**  \n",
    "- Git is the tool that helps you keep track of changes to your project, and manages your projects history on your local machine\n",
    "- GitHub is a website that you can use to store and share your Git projects publicly and privately\n",
    "- GitHub is essentially a hosting service for Git repositories, that has a user-friendly interface\n",
    "- Many developers use both Git and GitHub at the same time, to maximize their productivity and collaboration efforts\n",
    "<!-- section -->"
   ]
  },
  {
   "cell_type": "markdown",
   "id": "688b74eb",
   "metadata": {},
   "source": [
    "**How Do You Access Git and GitHub?**\n",
    "- To access Git, you may need to download it on your local machine, but first you should check and see if your machine already has it by using the following command on your terminal/command prompt: \n",
    "> 1. Use the following command on your terminal/command prompt: \n",
    "> ```bash\n",
    "> git --version\n",
    "> ```\n",
    "- If the terminal returns your Git version, then you already have Git installed. If not, follow the next steps to download and configure Git:\n",
    "> 1. Download Git from the official website:   \n",
    "<https://git-scm.com/downloads>\n",
    "> 2. Configure Git with your name and email address using the terminal/command prompt: \n",
    "> ```bash\n",
    "> git config --global user.name \"Your Name\"  \n",
    "> git config --global user.email your.email@example.com\n",
    "> ```\n",
    "> 3. Verify that Git installed correctly using the following: \n",
    "> ```bash\n",
    "> git --version\n",
    "> ```\n",
    "> 4. To verify your Git settings on your local repository, use the following command: \n",
    "> ```bash\n",
    "> git config --list\n",
    "> ```\n",
    "> *Keep in mind:*  \n",
    "> - *Git is available for different operating systems, so be sure to choose and follow the instructions for the appropriate version for your system*  \n",
    "> - *Also, the name and email that you choose to configure Git will be associated with your Git commits, so choose carefully* \n",
    "\n",
    "- Now let's move on to accessing GitHub: \n",
    "> 1. Create a GitHub account through the GitHub website: <https://github.com/>\n",
    "<!-- section -->"
   ]
  },
  {
   "cell_type": "markdown",
   "id": "e8c62aa6",
   "metadata": {},
   "source": [
    "**Lets go over some vocabulary** \n",
    "> - **Working Directory:** the place where you are currently editing your files\n",
    "> - **Staging Area:** a place between your working directory and the repository, where you prepare and select the changes you want to include in the next commit\n",
    "> - **Repository (repo):** a storage location where your Git project is located, a repository can exist both on your local machine (local repository) and on Github (remote repository)\n",
    "> - **Branch:** a separate line of development that allows you to work on a section of code independently, without affecting the main code of your project\n",
    "> - **Merge:** combining changes from one branch into another, which is used to bring together the work done on different branches\n",
    "> - **Conflict:** a situation where Git cannot automatically merge changes and requires manual fixes\n",
    "> - **Clone:** creating a local copy of a Git repository\n",
    "> - **Fork:** creating a personal copy of the repository under your GitHub account  \n",
    "\n",
    "**The difference between fork and clone:**  \n",
    "***Forking*** is typically used when you want to contribute to a project that is hosted on GitHub. When you fork a repository, you create a personal copy of the repository under your GitHub account, in which you can experiment and make changes without altering the original project. However, if you wish to propose changes, you can create a pull request to request that the original project owner incorporate your changes into the main repository.\n",
    "\n",
    "***Cloning*** is typically used when you want to copy another repository to your local machine, to work independently or contribute to it. When you clone a repository, you get an exact copy of the entire project (including branches and commit history). Cloning is a local operation, and any changes you make will not affect the original repository, unless you explicitly push your changes back"
   ]
  },
  {
   "cell_type": "markdown",
   "id": "8bcecdf1",
   "metadata": {},
   "source": [
    "**Git Basic Workflow**\n",
    "1) Initialize a Git repository\n",
    "2) Modify a file from your working directory\n",
    "3) Add the file(s) to the staging area\n",
    "4) Commit the files, which moves them from the staging area\n",
    "5) Create branches for different features/fixes\n",
    "6) Combine changes using merge or pull requests\n",
    "7) Link to GitHub and push/pull to store the changes permanently to the GitHub repository\n",
    "8) Collaborate, review changes, and propose pull requests with GitHub and repeat the process"
   ]
  },
  {
   "cell_type": "markdown",
   "id": "432634f5",
   "metadata": {},
   "source": [
    "![BasicGitWorkflow](GITProject/git-workflow-1.png) \n",
    "<!-- section -->"
   ]
  },
  {
   "cell_type": "markdown",
   "id": "f6ddd138",
   "metadata": {},
   "source": [
    "**Now We Can Set Up a Repository**\n",
    "- A repository is typically used to organize a single project\n",
    "- They can contain folders, files, images, videos, spreadsheets, data sets, etc.  \n",
    "- There are a few different options when setting up a repository \n",
    "- You can initialize a new repository, initialize a new repository for existing code, or clone an existing repository\n",
    "- To initialize a new repository do the following:  \n",
    "> - Open your terminal/command prompt\n",
    "> - Navigate to the directory where you want to create the new repository, or make a new directory for it (keep in mind that the name of the directory/subdirectory will be the name of the repository)\n",
    "> - Once you are in the directory that you would like to use, use the following command to start a new, empty Git repository in the current directory:  \n",
    "> ```bash\n",
    ">  git init\n",
    "> ```\n",
    "> - Git will send a message verifying that it successfully initialized an empty repository\n",
    "- To initialize a new repository for existing code do the following: \n",
    "> - Open your terminal/command prompt\n",
    "> - Navigate to the directory with your existing project\n",
    "> - Once you are in the directory that you would like to use, use the following command:  \n",
    "> ```bash\n",
    ">  git init\n",
    "> ```\n",
    "> - Git will send a message verifying that it successfully initialized a repository\n",
    "- To clone an existing repository do the following: \n",
    "> - First you will need to get the Git SSH URL of the repository you would like to clone\n",
    "> - To do this, open the GitHub website and locate the repository that you would like to clone\n",
    "> - Next, click the green code button, and in the local tab it should show a SSH tab with a SSH address\n",
    "> - Copy this address, which should look like the following: \n",
    "> - *git@HOSTNAME:USERNAME/REPONAME.git*\n",
    "> - Now open your terminal/command prompt, and navigate to the directory where you would like to have the cloned repository \n",
    "> - Once you are in the desired directory, use the following command with the SSH URL from earlier:   \n",
    "> ```bash\n",
    "> git clone git@HOSTNAME:USERNAME/REPONAME.git\n",
    "> ```\n",
    "> - Now the repository will be cloned and can be located in your desired directory  \n",
    "\n",
    "*Keep in mind:*  \n",
    " - *In addition to using SSH URLs for cloning, GitHub also provides HTTPS URLs for cloning, which may be preferred in some situations*\n",
    " <!-- section -->"
   ]
  },
  {
   "cell_type": "markdown",
   "id": "24fb5056",
   "metadata": {},
   "source": [
    "What is the command to initialize Git? "
   ]
  },
  {
   "cell_type": "markdown",
   "id": "a8a698ff",
   "metadata": {},
   "source": [
    "```{admonition} Click to show solution\n",
    ":class: dropdown\n",
    "git init\n",
    "<!-- section -->"
   ]
  },
  {
   "cell_type": "markdown",
   "id": "e8f5b456",
   "metadata": {},
   "source": [
    "**Understanding Git concepts**\n",
    "- After making changes to files in your repository, follow these steps to add those new versions to your repository using terminal/command prompt \n",
    "- These commands need to be executed in the working directory of your Git repository (the folder on your local machine that has the files and directories of your project): \n",
    "> 1. *Git Add* - This is used to take your modified files and mark them as ready to be saved and included in the next commit\n",
    "> ```bash\n",
    "> git add <file(s)>\n",
    "> ```\n",
    "> 2. *Git Commit*- This is used to save the modified files permanently, and the -m flag is used to add a brief description of what you changed  \n",
    "> ```bash\n",
    "> git commit -m \"commit message\"\n",
    "> ```\n",
    "> 3. *Git Push*- This is used to upload the commit made from your local machine, to your repository  \n",
    "> ```bash\n",
    "> git push <repository name><branch name>\n",
    "> ```\n",
    "> - You can also use *Git Status*, to display the current state of the Git repository (this will give you information about the different states of your files)  \n",
    "> ```bash\n",
    "> git status\n",
    "> ```"
   ]
  },
  {
   "cell_type": "markdown",
   "id": "94d65b76",
   "metadata": {},
   "source": [
    "![Git Basic Workflow](GITProject/GitWorkFlowDiagram1.png)\n",
    "<!-- section -->"
   ]
  },
  {
   "cell_type": "markdown",
   "id": "d158b634",
   "metadata": {},
   "source": [
    "What is the command to check the status of Git? "
   ]
  },
  {
   "cell_type": "markdown",
   "id": "fcedf7fc",
   "metadata": {},
   "source": [
    "```{admonition} Click to show solution\n",
    ":class: dropdown\n",
    "git status"
   ]
  },
  {
   "cell_type": "markdown",
   "id": "7793268c",
   "metadata": {},
   "source": [
    "What is the command to add a file to the staging environment? "
   ]
  },
  {
   "cell_type": "markdown",
   "id": "79334b16",
   "metadata": {},
   "source": [
    "```{admonition} Click to show solution\n",
    ":class: dropdown\n",
    "git add <fileName>"
   ]
  },
  {
   "cell_type": "markdown",
   "id": "ff287140",
   "metadata": {},
   "source": [
    "What is the command to commit changes to the current repository, with a message? "
   ]
  },
  {
   "cell_type": "markdown",
   "id": "884b64d3",
   "metadata": {},
   "source": [
    "```{admonition} Click to show solution\n",
    ":class: dropdown\n",
    "git commit -m \"Message\"\n",
    "<!-- section -->"
   ]
  },
  {
   "cell_type": "markdown",
   "id": "40231a4e",
   "metadata": {},
   "source": [
    "**Why link Git and GitHub?**  \n",
    "Since Git allows you to manage changes to your code, it provides a complete history of all modifications made, which makes it easy to revert to a previous version when needed. Git allows collaboration among team members, so that multiple developers can work on the same project at the same time. Git manages the changes made to a code from different team members and merges them. Git also has a \"branching\" feature which allows developers to create separate branches for new features, without affecting the main code. By linking your Git with your GitHub, you can easily make your repositories accessible to others. Having your Git repository linked to your GitHub allows GitHub to serve as a backup if your local machine fails (for example if you delete your entire project off of your local machine). "
   ]
  },
  {
   "cell_type": "markdown",
   "id": "9eafc0b5",
   "metadata": {},
   "source": [
    "**Linking a local repo with GitHub**  \n",
    "Now that we have initialized a local repository and added files to this repository, we can link the local repository to your GitHub account. Essentially we will be making a new empty repository on GitHub, and then pushing your local repository into this GitHub repository. If you only want to keep track of your code locally, then you do not need to use GitHub. However if you plan to work collaboratively, then you should use GitHub. To link your local repository with your GitHub account, do the following steps: \n",
    "\n",
    "1) Naviate to the directory of your local Git repository\n",
    "2) Go to the GitHub website and log into your account \n",
    "3) Click on the \"+\" sign in the top right corder, and select \"new repository\" \n",
    "4) Give the repository a name and description, and then click the \"create repository\" button\n",
    "5) On the GitHub repository page, you will see the URL of your new repository (https://github.com/yourUsername/yourRepo.git)\n",
    "6) Go back to your terminal or command prompt, navigate to the directory with the local repository, and use the following commands: \n",
    "> ```bash\n",
    "> git remote add origin https://github.com/yourusername/your-repo.git\n",
    "> git push -u origin main\n",
    "> ```\n",
    "<!-- section -->"
   ]
  },
  {
   "cell_type": "markdown",
   "id": "1b36c123",
   "metadata": {},
   "source": [
    "**Working with branches**\n",
    "- As mentioned previously, branching is used to edit the code directly but without impacting the main branch or any other branches    \n",
    "- In other words, branching lets you have multiple different versions of a repository at one time \n",
    "- Also, any changes made will not be automatically implemented into your repository\n",
    "- By default your repository has one branch named *main*, but you can create additional branches! \n",
    "- To create a new branch type the following in terminal/command prompt:  \n",
    "```bash\n",
    "git branch branchName\n",
    "```\n",
    "- To see the available branches that you have, type the following:  \n",
    "```bash\n",
    "git branch\n",
    "```\n",
    "- To switch to a different branch, type the following:  \n",
    "```bash\n",
    "git checkout desiredBranch\n",
    "```\n",
    "- Lets say for example, you just updated one of the files in the directory of your repository\n",
    "- You can use the following command to see what files have been changed on that branch, and the \"progress\" of each file:  \n",
    "```bash\n",
    "git status\n",
    "```\n",
    "- Once you check the status, then you can go on to adding, committing, and pushing the files\n",
    "\n",
    "*Keep in mind:*  \n",
    "- *Before switching branches, it is good practice to ensure that any uncommitted changes in the current branch are committed to avoid conflicts*\n",
    "- *It is also good practice to create descriptive and meaningful branch names that indicate the purpose/feature being worked on*\n",
    "- *When you create a new branch, you are essentially making a copy of the main branch as it was at that point in time*\n",
    "- *If someone made changes to the main branch while you were working on a different branch, you could pull in those updates* "
   ]
  },
  {
   "cell_type": "markdown",
   "id": "652c0e33",
   "metadata": {},
   "source": [
    "**Forking a Repository** \n",
    "- Forking is mainly used to propose changes to someone else's project, or to use someone else's project as a starting point for your project  \n",
    "- To fork a repository, use the following steps:  \n",
    "> 1) Log into your GitHub account, and navigate to the repository that you would like to form  \n",
    "> 2) In the top right corner of the page, click the fork button  \n",
    "> 3) Select the dropdown button and click an owner for the forked repository  \n",
    "> 4) You can also change the name of the forked repository if you would like   \n",
    "> 5) Select what branch you would like to copy (typically you only need to copy the default branch)  \n",
    "> 6) Click the create fork button  \n",
    "- Now you have the forked repository \n",
    "- However, you do not have the repository contents saved locally on your device, so you have to clone it  \n",
    "- To clone a forked repository, use the following steps  \n",
    "> 1) Log into GitHub, and navigate to your forked repository   \n",
    "> 2) Click on the green code button and copy the SSH URL  \n",
    "> 3) Now open your terminal or command prompt, and navigate to the directory where you want the forked repository  \n",
    "> 4) Use the following Git command:   \n",
    "> ```bash  \n",
    "> git clone git@HOSTNAME:USERNAME/REPONAME.git  \n",
    "> ```  \n",
    "> 5) Now your local copy of the forked repository has been created!   \n",
    "<!-- section -->"
   ]
  },
  {
   "cell_type": "markdown",
   "id": "d2a7d88a",
   "metadata": {},
   "source": [
    "What is the command to switch to a different branch? "
   ]
  },
  {
   "cell_type": "markdown",
   "id": "a087c5db",
   "metadata": {},
   "source": [
    "```{admonition} Click to show solution\n",
    ":class: dropdown\n",
    "git checkout desiredBranch\n",
    "<!-- section -->"
   ]
  },
  {
   "cell_type": "markdown",
   "id": "e46205fb",
   "metadata": {},
   "source": [
    "**Git Pull, Fetch, and Merge**\n",
    "- When doing group work/collaboration on a code project, it is important to always have the most recent changes on your local machine\n",
    "- You can do this using a few Git commands\n",
    "> - **Fetch** is used to get the history of the changes\n",
    "> ```bash\n",
    "> git fetch origin\n",
    "> ```\n",
    "> - Now check the **status** so that we can see the how behind our code is from the updated code\n",
    "> ```bash\n",
    "> git status\n",
    "> ```\n",
    "> - Now we can check the exact differences between our code and the updated code in a few different ways:  \n",
    "> ```bash\n",
    "> git log origin\n",
    "> git diff origin\n",
    "> ```\n",
    "> - Now we can use **merge** to combine our current branch, with a specified branch (the branch with the updated code)  \n",
    "> ```bash\n",
    "> git merge origin/<branchName>\n",
    "> ```\n",
    "> - Finally we can double check that we are up to date using **status** \n",
    "> ```bash\n",
    "> git status \n",
    "> ```\n",
    "- There is also a shortcut to doing those commands above, which is to use the **pull** command, which is the combination of fetch and merge \n",
    "- This shortcut came out after fetch and merge were created\n",
    "- You can almost always use the **pull** command, unless you wanted to merge one change at a time  \n",
    "> ```bash\n",
    "> git pull origin\n",
    "> ```\n",
    "    \n",
    "*Keep in mind:*  \n",
    "- *Users should replace \"origin\" with the appropriate remote name if they have multiple remote repositories*\n",
    "- *When using git pull, if there are any conflicts between your changes and changes from the remote repository, this command will attempt to auto-merge but may require manual resolution*\n",
    "- *You may face an issue known as a merge conflict, which means that Git was unable to successfully merge the branches, which can be due to a variety of different issues*\n",
    "- *I would recommend looking at the GitHub website for solutions to this issue, since there is no one universal solution* "
   ]
  },
  {
   "cell_type": "markdown",
   "id": "4340feb8",
   "metadata": {},
   "source": [
    "**Pull requests**  \n",
    "- Pull requests are used to propose your changes to be reviewed, and be merged into the main branch\n",
    "- You would typically use a pull request in a collaborative workflow, especially when you are working with a repository that you do not have direct access to\n",
    "- Pull requests allow maintainers of the repository to review changes and see differences between branches before merging branches into the main branch\n",
    "- To create a pull request perform the following steps in GitHub: \n",
    "> 1) Log into your GitHub account, and open your repository  \n",
    "> 2) Click the pull requests tab of your repository, and then click new pull request   \n",
    "> 3) In the example comparisons box, select the branch you made, to compare with the main branch  \n",
    "> 3) Look over the differences between branches, and make sure that you are ready to submit the request  \n",
    "> 4) Click create pull request, and give the request a title and description if you would like to  \n",
    "- Now your collaborators can review your edits and make suggestions  \n",
    "- When ready, you can merge your pull request by doing the following:   \n",
    "> 1) At the bottom of the pull request, click merge pull request  \n",
    "> 2) Click the confirm merge button   \n",
    "> 3) Now your branch has been merged, and you can safely delete it if you would like!   "
   ]
  },
  {
   "cell_type": "markdown",
   "id": "157d26b5",
   "metadata": {},
   "source": [
    "![Git Basic Workflow](GITProject/BranchingAndPulling.png)\n",
    "<!-- section -->"
   ]
  },
  {
   "cell_type": "markdown",
   "id": "b402e6b9",
   "metadata": {},
   "source": [
    "**Using the correct professional workflow**\n",
    "1. *Create a new branch*\n",
    "> - Branching is a very important concept in Git, and it is crucial to understand that the origin/master branch is always the main branch\n",
    "> - Anytime that you would like to add something new, you should create a new branch \n",
    "> - Also, make sure to use descriptive branch names so that it is easy for others that you are working with to understand what you were working on \n",
    "2. *Add commits*\n",
    "> - After your branch was created, then you can get to work editing, adding and deleting files\n",
    "> - Once you reach a milestone, you should add the changes to your branch using *commit*\n",
    "> - It is important to use *commit* because it can help keep track of your work\n",
    "> - It is also good practice to make a commit message every time you commit something, with what you changed and why\n",
    "> - Another reason why you should use commit frequently is because it keeps track of the history of commits, so that you can revert back to a previous version if needed\n",
    "3. *Creating a pull request*\n",
    "> - A pull request is used to notify collaborators that you made changes to your branch and you are ready for them to consider and/or review the changes \n",
    "> - If they like the changes then they can merge them into their branch\n",
    "4. *Review*\n",
    "> - Once a pull request has been made, it can be reviewed by whoever has access to the branch \n",
    "> - Pull requests are designed for collaboration \n",
    "5. *Deploy*\n",
    "> - Once everything has been reviewed, and any changes have been made, then it is time for final testing\n",
    "> - GitHub allows you to deploy from a branch for final testing, before it has been merged with the master/origin branch \n",
    "6. *Merging* \n",
    "> - Now it is finally time to merge the code with the master/origin branch! \n",
    "<!-- section -->"
   ]
  },
  {
   "cell_type": "markdown",
   "id": "cce8c983",
   "metadata": {},
   "source": [
    "**Git URL Protocols**  \n",
    "There are 3 different GIT URL protocols that are available for remote repository connectivity. Here is some information about them:   \n",
    "\n",
    "> 1) *HTTPS:*   \n",
    "> - HTTPS is a protocol that allows secure communication across the internet \n",
    "> - Using HTTPS URLs for remote repositories is fairly easy to set up, since it only requires your GitHub username and password\n",
    "> - HTTPS URLs are typically recommended for beginners, since they do not require any additional configuration   \n",
    "> - example: https://github.com/username/repository.git   \n",
    "> 2) *SSH:*     \n",
    "> - SSH is a network protocol that provides a secure way to access and communicate with remote servers  \n",
    "> - Using SSH URLs for remote repositories requires additional setup, which is generating and adding a SSH key to your GitHub account  \n",
    "> - However, once this key is set up, using SSH URLs has the advantage of secure communication, without needing to enter your username and password repeatedly\n",
    "> - example: git@github.com:username/repository.git   \n",
    "> 3) *GIT:*   \n",
    "> - GIT protocol is a protocol that is unique to Git\n",
    "> - This protocol does not provide any encryption or authentication mechanisms on its own, so it is typically only used in trusted and local networks\n",
    "> - The other URL protocols are typically more popular\n",
    "> - example: git://hostname/path/to/repository.git\n",
    "<!-- section -->"
   ]
  },
  {
   "cell_type": "markdown",
   "id": "8741997a",
   "metadata": {},
   "source": [
    "**Helpful Git Commands**   \n",
    "***git log*** - displays the entire history of commits, and also displays the commit hash  \n",
    "***git diff*** - will show the changes between your working directory and the repository's staging area  \n",
    "***git revert*** - uses the commit hash to revert to a previous version  \n",
    "***git reset*** - removes a file from the staging area, but will not affect the working directory  "
   ]
  },
  {
   "cell_type": "markdown",
   "id": "e1f74cae",
   "metadata": {},
   "source": [
    "**Helpful Unix Commands**  \n",
    "If you are new to Unix and need to use Git, here are some basic Unix commands that can be helpful when managing Git repositories:  \n",
    "- *cd* is used to change directories, which can be used to navigate to the directory where your Git repository is located  \n",
    "```bash \n",
    "cd <directory> \n",
    "``` \n",
    "- *ls* is used to list the files and directories in the current directory\n",
    "```bash\n",
    "ls\n",
    "```\n",
    "- *mkdir* is used to make a new directory\n",
    "```bash\n",
    "mkdir <directory> \n",
    "```\n",
    "- *rm* is used to remove files or directories\n",
    "```bash\n",
    "rm <file/directory> \n",
    "```\n",
    "- *mv* is used to move or rename files or directories\n",
    "```bash\n",
    "mv <source> <destination> \n",
    "```\n",
    "- *man* is used to access the manual pages for Unix commands, which is used for if you need help with a command\n",
    "```bash\n",
    "man <command> \n",
    "```"
   ]
  },
  {
   "cell_type": "markdown",
   "id": "9c764205",
   "metadata": {},
   "source": [
    "**Git Alias**  \n",
    "Git aliases are custom shortcuts/abbreviations that you can create to simplify and speed up your Git workflow. Defining aliases for commonly used commands can be extremely helpful. \n",
    "- To create a Git alias, use the following command: \n",
    "```bash\n",
    "git config --global <alias>.<alias_name> <git_command> \n",
    "```\n",
    "- An example of a commonly used alias is the following: \n",
    "```bash\n",
    "git config --global alias.st status\n",
    "```\n",
    "<!-- section -->"
   ]
  },
  {
   "cell_type": "markdown",
   "id": "064036e2",
   "metadata": {},
   "source": [
    "What is the command to show changes between the working directory and staging area? (The unstaged changes)"
   ]
  },
  {
   "cell_type": "markdown",
   "id": "5d0a2ff0",
   "metadata": {},
   "source": [
    "```{admonition} Click to show solution\n",
    ":class: dropdown\n",
    "git diff\n",
    "<!-- section -->"
   ]
  },
  {
   "cell_type": "markdown",
   "id": "3faa5d5c",
   "metadata": {},
   "source": [
    "**Conclusion:**  \n",
    "This Git tutorial has provided an overview of the version control system Git, and its fundamental concepts. By using Git and GitHubs functionalities, developers can improve collaboration, and effectively manage their projects! \n",
    "\n",
    "- The GitHub site also has a lot of great resources to learn from, and to practice with : https://docs.github.com/en\n",
    "- On that site you can also find a Git cheat sheet which is very helpful! "
   ]
  },
  {
   "cell_type": "code",
   "execution_count": null,
   "id": "c8d011a1",
   "metadata": {},
   "outputs": [],
   "source": []
  }
 ],
 "metadata": {
  "kernelspec": {
   "display_name": "Python 3 (ipykernel)",
   "language": "python",
   "name": "python3"
  },
  "language_info": {
   "codemirror_mode": {
    "name": "ipython",
    "version": 3
   },
   "file_extension": ".py",
   "mimetype": "text/x-python",
   "name": "python",
   "nbconvert_exporter": "python",
   "pygments_lexer": "ipython3",
   "version": "3.10.9"
  }
 },
 "nbformat": 4,
 "nbformat_minor": 5
}
