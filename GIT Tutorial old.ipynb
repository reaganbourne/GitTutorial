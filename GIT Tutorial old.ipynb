{
 "cells": [
  {
   "cell_type": "markdown",
   "id": "0b887582",
   "metadata": {},
   "source": [
    "## Git Tutorial"
   ]
  },
  {
   "cell_type": "markdown",
   "id": "e48fda22",
   "metadata": {},
   "source": [
    "**In This Tutorial You Will Learn:**\n",
    "- What Git is used for\n",
    "- The difference between Git and GitHub\n",
    "- How to access Git and GitHub\n",
    "- Linking Git and GitHub\n",
    "- Basic vocabulary\n",
    "- The difference between cloning and forking \n",
    "- Git add, commit and push\n",
    "- Working with branches\n",
    "- Pull, fetch and merge\n",
    "- The correct workflow"
   ]
  },
  {
   "cell_type": "markdown",
   "id": "05b91613",
   "metadata": {},
   "source": [
    "**Audience and Prerequisites**  \n",
    "This tutorial will help beginners learn the basics of Git and Github. We assume that you have some experience with the terminal/command prompt. We also assume that you are using Git to help manage coding projects. "
   ]
  },
  {
   "cell_type": "markdown",
   "id": "6692a8d2",
   "metadata": {},
   "source": [
    "**What is Git and Why Should You Use It?**  \n",
    "Git is a free and open source distributed version control system. There are several different types of distributed version control systems, but Git is great because it is free, open source, has a very low runtime, has implicit backup, and is very secure. "
   ]
  },
  {
   "cell_type": "markdown",
   "id": "1c20df48",
   "metadata": {},
   "source": [
    "It can be used for: \n",
    "1. Tracking code changes\n",
    "2. Tracking who made code changes\n",
    "3. Coding collaboration"
   ]
  },
  {
   "cell_type": "markdown",
   "id": "55136cf5",
   "metadata": {},
   "source": [
    "**Whats the Difference Between Git and GitHub?**  \n",
    "- Git and Github are two different things\n",
    "- Git is the tool that helps you keep track of changes to your project, and manages your projects history on your local machine\n",
    "- GitHub is the website that you can use to store and share your Git projects publicly "
   ]
  },
  {
   "cell_type": "markdown",
   "id": "74158312",
   "metadata": {},
   "source": [
    "**How Do You Access Git and GitHub?**\n",
    "- To access Git, you typically need to download it on your local machine, here are the steps to do so: \n",
    "> 1. Download Git from the official website: <https://git-scm.com/downloads>\n",
    "> 2. Configure Git with your name and email address using the terminal/command prompt:   \n",
    "> ***git config --global user.name \"Your Name\"***  \n",
    "> ***git config --global user.email your.email@example.com***\n",
    "> 3. Verify that Git installed correctly using the following: \n",
    "> ***git --version***  \n",
    "\n",
    "- Now lets move on to accessing GitHub: \n",
    "> 1. Create a GitHub account through the GitHub website: <https://github.com/>\n",
    "> 2. Create a new repository in GitHub by clicking the \"New\" button on the homepage, and then clicking \"Create repository\" \n",
    "> 3. Connect your Git and GitHub accounts using the terminal/command prompt:  \n",
    "> ***git remote add origin https://github.com/your-username/your-repository-name.git***\n"
   ]
  },
  {
   "cell_type": "markdown",
   "id": "c88e42a7",
   "metadata": {},
   "source": [
    "**Now We Linked Git and GitHub, So What?**\n",
    "- Since Git allows you to manage changes to your code, it provides a complete history of all modifications made, which makes it easy to revert to a previous version when needed\n",
    "- Git allows collaboration among team members, so that multiple developers can work on the same project at the same time\n",
    "- Git manages merging the changes made to a code, from different team members\n",
    "- Git also has a \"branching\" feature which allows developers to create seperate branches for new features, without affecting the main code\n",
    "- By linking your Git with your GitHub, you can easily make your repositories accessible to others\n",
    "- Also having your Git repository linked to your GitHub allows GitHub to serve as a backup if your local machine fails (for example if you delete your entire project off of your local machine, this can be very helpful) \n",
    "- In summary, linking Git with GitHub further enhances the features available with both services"
   ]
  },
  {
   "cell_type": "markdown",
   "id": "e8c62aa6",
   "metadata": {},
   "source": [
    "**Lets Go Over Some Vocabulary** \n",
    "> - Working Directory: the place where you are currently editing your files\n",
    "> - Staging Area: a place between your working directory and the repository\n",
    "> - Repository (repo) : a storage location on GitHub where your Git project is located\n",
    "> - Branch: a seperate line of development that allows you to work on a section of code independently, without affecting the main code of your project\n",
    "> - Merge: combining changes from one branch into another, which is used to bring together the work done on different branches\n",
    "> - Conflict: a situation where Git cannot automatically merge changes and requires manual fixes\n",
    "> - Clone: creating a local copy of a Git repository\n",
    "> - Fork: creating a personal copy of the repository under your GitHub account  \n",
    "\n",
    "\n",
    "**The Difference Between Clone and Fork:**  \n",
    "> - Forking is typically used when you want to contribute to a project, meaning you work on it individually but you are still contributing to the main repository\n",
    "> - Cloning is typically used when you want to copy another repository for your own use\n",
    "\n"
   ]
  },
  {
   "cell_type": "markdown",
   "id": "8bcecdf1",
   "metadata": {},
   "source": [
    "**Git Basic Workflow**\n",
    "1) Modify a file from your working directory\n",
    "2) Add the file(s) to the staging area\n",
    "3) Commit the files, which moves them from the staging area, and then push the files, to store the changes permanently to the Git repository "
   ]
  },
  {
   "cell_type": "markdown",
   "id": "e8f5b456",
   "metadata": {},
   "source": [
    "**Understanding Git Concepts**\n",
    "- After making changes to files in your repository, follow these steps to add those new versions to your repository using terminal/command prompt \n",
    "- These commands need to be executed in the working directory of your Git repository (The folder on your local machine that has the files and directories of your project) \n",
    "> 1. *Git Add* - This is used to take your modified files and mark them as ready to be saved  \n",
    "> ***git add <file(s)>***\n",
    "> 2. *Git Commit*- This is used to save the modified files permanently, and to add a brief description of what you changed  \n",
    "> ***git commit -m \"commit message\"***\n",
    ">3. *Git Push*- This is used to upload the commit made from your local machine, to your repository  \n",
    "> ***git push &lt;repository name&gt; &lt;branch name&gt;***"
   ]
  },
  {
   "cell_type": "markdown",
   "id": "c7584861",
   "metadata": {},
   "source": [
    "![Git Basic Workflow](C:\\Users\\reaga\\Downloads\\GitWorkFlowDiagram.png)"
   ]
  },
  {
   "cell_type": "markdown",
   "id": "1b36c123",
   "metadata": {},
   "source": [
    "**Working With Branches**\n",
    "- As mentioned previously, branching is used to edit the code directly but without impacting the main branch  \n",
    "- Also, any changes made will not be automatically implemented into your repository\n",
    "- To create a new branch type the following in terminal/command prompt:  \n",
    "***git branch branchName***\n",
    "- To see the available branches that you have, type the following:  \n",
    "***git branch***\n",
    "- To switch to a different branch, type the following:  \n",
    "***git checkout desiredBranch***\n",
    "- Lets say for example, you just updated some of your code on the directory of your repository\n",
    "- You can use the following command to see what files have been changed on that branch, and the \"progress\" of each file:  \n",
    "***git status***\n",
    "- Once you check the status, then you can go on to adding, commiting, and pushing the files"
   ]
  },
  {
   "cell_type": "markdown",
   "id": "e46205fb",
   "metadata": {},
   "source": [
    "**Git Pull, Fetch, and Merge**\n",
    "- When doing group work/collaboration on a code project, it is important to always have the most recent changes on your local machine\n",
    "- You can do this using a few Git commands\n",
    "> - fetch is used to get the history of the changes\n",
    "> - ***git fetch origin***\n",
    "> - now check the status so that we can see the how behind our code is from the updated code\n",
    "> - ***git status***\n",
    "> - Now we can check the exact differences between out code and the updated code in a few different ways:  \n",
    "> - ***git log origin***\n",
    "> - ***git diff origin***\n",
    "> - now we can use merge to combine our current branch, with a specified branch (the branch with the updated code)\n",
    "> - ***git merge origin***\n",
    "> - Finally we can double check that we are up to date using status  \n",
    "> - ***git status***\n",
    "- There is also a shortcut to doing those commands above, which is to use the pull command, which is the combination of fetch and merge \n",
    "- This shortcut came out after fetch and merge were created\n",
    "- You can almost always use the pull command, unless you wanted to merge one change at a time\n",
    "> - ***git pull origin***"
   ]
  },
  {
   "cell_type": "markdown",
   "id": "b402e6b9",
   "metadata": {},
   "source": [
    "**Using the Correct Workflow**\n",
    "1. *Create a new branch*\n",
    "> - branching is a very important concept in Git, and it is crucial to understand that the origin/master branch is always the main branch\n",
    "> - anytime that you would like to add something new, you should create a new branch \n",
    "> - also, make sure to use descriptive branch names so that it is easy for others that you are working with to understand what you were working on \n",
    "2. *Add commits*\n",
    "> - after your branch was created, then you can get to work editing, adding and deleting files\n",
    "> - once you reah a milestone, you should add the changes to your branch using commit\n",
    "> - it is important to use commit because it can help keep track of your work\n",
    "> - it is also good practice to make a commit message every time you commit something, with what you changed and why\n",
    "> - another reason why you should use commit frequently is because it keeps track of the history of commits, so that you can revert back to a previous version if needed\n",
    "3. *Creating a pull request*\n",
    "> - a pull request is used to notify the people that you are working with that you made changes to your branch and you are ready for them to consider the changes/review the changes\n",
    "> - If they like the changes then they will decide to merge it into their branch\n",
    "4. *Review*\n",
    "> - once a pull request has been made, it can be reviewed by whoever has access to the branch \n",
    "> - pull requests are designed for collaboration \n",
    "5. *Deploy*\n",
    "> - once everything has been reviewed, and any changes have been made, then it is time for final testing\n",
    "> - GitHub allows you to deploy from a branch for final testing, before it has been merged with the master/origin branch \n",
    "6. *Merging* \n",
    "> - now it is finally time to merge the code with the master/origin branch! "
   ]
  },
  {
   "cell_type": "code",
   "execution_count": 1,
   "id": "2f2a982f",
   "metadata": {},
   "outputs": [],
   "source": []
  },
  {
   "cell_type": "code",
   "execution_count": null,
   "id": "7e538214",
   "metadata": {},
   "outputs": [],
   "source": []
  },
  {
   "cell_type": "code",
   "execution_count": null,
   "id": "ec67770e",
   "metadata": {},
   "outputs": [],
   "source": []
  }
 ],
 "metadata": {
  "kernelspec": {
   "display_name": "Python 3 (ipykernel)",
   "language": "python",
   "name": "python3"
  },
  "language_info": {
   "codemirror_mode": {
    "name": "ipython",
    "version": 3
   },
   "file_extension": ".py",
   "mimetype": "text/x-python",
   "name": "python",
   "nbconvert_exporter": "python",
   "pygments_lexer": "ipython3",
   "version": "3.10.9"
  }
 },
 "nbformat": 4,
 "nbformat_minor": 5
}
